{
  "nbformat": 4,
  "nbformat_minor": 0,
  "metadata": {
    "colab": {
      "provenance": []
    },
    "kernelspec": {
      "name": "python3",
      "display_name": "Python 3"
    },
    "language_info": {
      "name": "python"
    }
  },
  "cells": [
    {
      "cell_type": "code",
      "execution_count": null,
      "metadata": {
        "colab": {
          "base_uri": "https://localhost:8080/"
        },
        "id": "cf0JsYJDpj3w",
        "outputId": "4549058e-5709-4c29-8b1a-a49a1923da5b"
      },
      "outputs": [
        {
          "output_type": "stream",
          "name": "stdout",
          "text": [
            "Anomaly Report:\n",
            "================================================================================\n",
            "Transaction ID: TRX004\n",
            "Date: 2024-06-02 00:00:00\n",
            "Category: Food\n",
            "Amount: $3000.00\n",
            "Reason: Unusual amount (Z-score: 1.15)\n",
            "--------------------------------------------------------------------------------\n",
            "\n",
            "Total anomalies detected: 1\n"
          ]
        }
      ],
      "source": [
        "import pandas as pd\n",
        "import numpy as np\n",
        "from scipy import stats\n",
        "\n",
        "def load_and_preprocess_data(file_path):\n",
        "    # Load data\n",
        "    df = pd.read_csv('/content/drive/MyDrive/sam.csv')\n",
        "\n",
        "    # Convert date to datetime\n",
        "    df['date'] = pd.to_datetime(df['date'])\n",
        "\n",
        "    # Handle missing values (if any)\n",
        "    df = df.dropna()\n",
        "\n",
        "    return df\n",
        "\n",
        "def calculate_statistics(df):\n",
        "    # Calculate statistics by category\n",
        "    stats_by_category = df.groupby('category')['amount'].agg(['mean', 'median', 'std'])\n",
        "    return stats_by_category\n",
        "\n",
        "def detect_anomalies(df, stats_by_category):\n",
        "    anomalies = []\n",
        "\n",
        "    for _, row in df.iterrows():\n",
        "        category_stats = stats_by_category.loc[row['category']]\n",
        "\n",
        "        # Z-score method for amount anomalies\n",
        "        z_score = (row['amount'] - category_stats['mean']) / category_stats['std']\n",
        "\n",
        "        if abs(z_score) > 1:  # Using 1 standard deviations as threshold\n",
        "            anomalies.append({\n",
        "                'transaction_id': row['transaction_id'],\n",
        "                'date': row['date'],\n",
        "                'category': row['category'],\n",
        "                'amount': row['amount'],\n",
        "                'reason_for_anomaly': 'Unusual amount (Z-score: {:.2f})'.format(z_score)\n",
        "            })\n",
        "\n",
        "    return anomalies\n",
        "\n",
        "def generate_report(anomalies):\n",
        "    print(\"Anomaly Report:\")\n",
        "    print(\"=\" * 80)\n",
        "    for anomaly in anomalies:\n",
        "        print(f\"Transaction ID: {anomaly['transaction_id']}\")\n",
        "        print(f\"Date: {anomaly['date']}\")\n",
        "        print(f\"Category: {anomaly['category']}\")\n",
        "        print(f\"Amount: ${anomaly['amount']:.2f}\")\n",
        "        print(f\"Reason: {anomaly['reason_for_anomaly']}\")\n",
        "        print(\"-\" * 80)\n",
        "\n",
        "    print(f\"\\nTotal anomalies detected: {len(anomalies)}\")\n",
        "\n",
        "def main():\n",
        "    # Assume the data is in a CSV file named 'transactions.csv'\n",
        "    file_path = '/content/drive/MyDrive/sam.csv'\n",
        "\n",
        "    # Load and preprocess data\n",
        "    df = load_and_preprocess_data('/content/drive/MyDrive/sam.csv')\n",
        "\n",
        "    # Calculate statistics\n",
        "    stats_by_category = calculate_statistics(df)\n",
        "\n",
        "    # Detect anomalies\n",
        "    anomalies = detect_anomalies(df, stats_by_category)\n",
        "\n",
        "    # Generate report\n",
        "    generate_report(anomalies)\n",
        "\n",
        "if __name__ == \"__main__\":\n",
        "    main()"
      ]
    }
  ]
}